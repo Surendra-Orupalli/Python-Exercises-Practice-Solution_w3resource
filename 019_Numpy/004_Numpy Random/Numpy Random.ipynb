{
 "cells": [
  {
   "cell_type": "markdown",
   "metadata": {},
   "source": [
    "# Python NumPy: Random Exercises, Practice, Solution"
   ]
  },
  {
   "cell_type": "code",
   "execution_count": null,
   "metadata": {},
   "outputs": [],
   "source": [
    "import numpy as np"
   ]
  },
  {
   "cell_type": "markdown",
   "metadata": {},
   "source": [
    "#### 1. Write a Python program to generate five random numbers from the normal distribution.\n",
    "\n",
    "Expected Output:\n",
    "[-0.43262625 -1.10836787 1.80791413 0.69287463 -0.53742101] "
   ]
  },
  {
   "cell_type": "code",
   "execution_count": 5,
   "metadata": {},
   "outputs": [
    {
     "name": "stdout",
     "output_type": "stream",
     "text": [
      "[-1.86128876  0.78208269  1.8777961  -0.39031445  1.66426435]\n"
     ]
    }
   ],
   "source": [
    "array = np.random.normal(size=5)\n",
    "print(array)"
   ]
  },
  {
   "cell_type": "markdown",
   "metadata": {},
   "source": [
    "#### 2. Write a Python program to generate six random integers between 10 and 30.\n",
    "\n",
    "Expected Output:\n",
    "[20 28 27 17 28 29] "
   ]
  },
  {
   "cell_type": "code",
   "execution_count": 7,
   "metadata": {},
   "outputs": [
    {
     "name": "stdout",
     "output_type": "stream",
     "text": [
      "[27 17 16 21 22 21]\n"
     ]
    }
   ],
   "source": [
    "array = np.random.randint(low=10, high=30, size=6)\n",
    "print(array)"
   ]
  },
  {
   "cell_type": "markdown",
   "metadata": {},
   "source": [
    "#### 3. Write a Python program to create a 3x3x3 array with random values. Go to the editor \n",
    "\n",
    "Expected Output:\n",
    "[[[ 0.48941799 0.58722213 0.43453926]\n",
    "\n",
    "[ 0.94497547 0.81081709 0.1510409 ]\n",
    "\n",
    "[ 0.66657127 0.29494755 0.48047144]] \n",
    "\n",
    "[[ 0.02287253 0.95232614 0.32264936]\n",
    "\n",
    "[ 0.67009741 0.25458304 0.16290913]\n",
    "\n",
    "[ 0.15520198 0.86826529 0.9679322 ]] \n",
    "\n",
    "[[ 0.13503103 0.02042211 0.24683897]\n",
    "\n",
    "[ 0.97852158 0.22374748 0.10798856]\n",
    "\n",
    "[ 0.62032646 0.5893892 0.16958144]]]"
   ]
  },
  {
   "cell_type": "code",
   "execution_count": 9,
   "metadata": {},
   "outputs": [
    {
     "name": "stdout",
     "output_type": "stream",
     "text": [
      "[[[0.0937653  0.01335931 0.18488201]\n",
      "  [0.82161351 0.65629021 0.32870774]\n",
      "  [0.78707236 0.80592086 0.38674481]]\n",
      "\n",
      " [[0.53512114 0.01945691 0.20141996]\n",
      "  [0.52698885 0.34718503 0.2578028 ]\n",
      "  [0.55474789 0.06920341 0.59205877]]\n",
      "\n",
      " [[0.33293798 0.20761148 0.26316973]\n",
      "  [0.15378893 0.37618014 0.8703767 ]\n",
      "  [0.09144706 0.61350839 0.77721166]]]\n"
     ]
    }
   ],
   "source": [
    "array = np.random.rand(3,3,3)\n",
    "print(array)"
   ]
  },
  {
   "cell_type": "markdown",
   "metadata": {},
   "source": [
    "#### 4. Write a Python program to create a 5x5 array with random values and find the minimum and maximum values. \n",
    "\n",
    "Expected Output:\n",
    "\n",
    "Original Array: \n",
    "\n",
    "[[ 0.96336355 0.12339131 0.20295196 0.37243578 0.88105252] \n",
    "\n",
    "[ 0.93228246 0.67470158 0.38103235 0.32242645 0.40610231]\n",
    "\n",
    "[ 0.3113495 0.31688 0.79189089 0.08676434 0.60829874]\n",
    "\n",
    "[ 0.30360149 0.94316317 0.98142491 0.77222542 0.51532195] \n",
    "\n",
    "[ 0.97392305 0.16669609 0.81377917 0.2165645 0.00121611]]\n",
    "\n",
    "Minimum and Maximum Values: \n",
    "0.00121610921757 0.981424910368"
   ]
  },
  {
   "cell_type": "code",
   "execution_count": 11,
   "metadata": {},
   "outputs": [
    {
     "name": "stdout",
     "output_type": "stream",
     "text": [
      "[[0.0096398  0.49180921 0.82476728 0.5348092  0.22975636]\n",
      " [0.47801425 0.37559801 0.30147946 0.24733078 0.00976179]\n",
      " [0.96828903 0.7874861  0.05577639 0.16846232 0.76031206]\n",
      " [0.13053762 0.52514019 0.56473451 0.07542644 0.03203226]\n",
      " [0.20495555 0.58319545 0.21190669 0.08653444 0.78643756]]\n",
      "minimum = 0.009639801526111547\n",
      "maximum = 0.9682890329867969\n"
     ]
    }
   ],
   "source": [
    "array = np.random.rand(5,5)\n",
    "print(array)\n",
    "\n",
    "print(\"minimum =\", np.amin(array))\n",
    "print(\"maximum =\", np.amax(array))"
   ]
  },
  {
   "cell_type": "markdown",
   "metadata": {},
   "source": [
    "#### 5. Write a Python program to create a random 10x4 array and extract the first five rows of the array and store them into a variable.\n",
    "\n",
    "Sample Output:\n",
    "\n",
    "Original array: \n",
    "\n",
    "[[ 0.38593391 0.52823544 0.8994567 0.22097238]\n",
    "\n",
    "[ 0.16639229 0.74964167 0.58102198 0.2811601 ] \n",
    "\n",
    "[ 0.56447627 0.42575759 0.71297527 0.91099347]\n",
    "\n",
    "[ 0.00261548 0.0064798 0.66096109 0.54514293]\n",
    "\n",
    "[ 0.7216008 0.95815426 0.53370551 0.28116107] \n",
    "\n",
    "[ 0.16252081 0.26191659 0.40883164 0.60653848]\n",
    "\n",
    "[ 0.55934457 0.37814126 0.63287808 0.01856616]\n",
    "\n",
    "[ 0.03788236 0.22705078 0.82024426 0.83019741]\n",
    "\n",
    "[ 0.31140166 0.43926341 0.38685152 0.92402934]\n",
    "\n",
    "[ 0.00581032 0.83925377 0.95246879 0.28570894]]\n",
    "\n",
    "First 5 rows of the above array:\n",
    "\n",
    "[[ 0.38593391 0.52823544 0.8994567 0.22097238]\n",
    "\n",
    "[ 0.16639229 0.74964167 0.58102198 0.2811601 ]\n",
    "\n",
    "[ 0.56447627 0.42575759 0.71297527 0.91099347]\n",
    "\n",
    "[ 0.00261548 0.0064798 0.66096109 0.54514293]\n",
    "\n",
    "[ 0.7216008 0.95815426 0.53370551 0.28116107]]"
   ]
  },
  {
   "cell_type": "code",
   "execution_count": 78,
   "metadata": {},
   "outputs": [
    {
     "name": "stdout",
     "output_type": "stream",
     "text": [
      "[[0.3644021  0.11210994 0.75888786 0.05965987]\n",
      " [0.21592767 0.66665482 0.36723146 0.19922161]\n",
      " [0.28640834 0.97367047 0.11987539 0.72879709]\n",
      " [0.40911095 0.4433638  0.99248702 0.74943426]\n",
      " [0.69742787 0.92489975 0.43417199 0.57387111]\n",
      " [0.4772414  0.26259897 0.25376625 0.90788489]\n",
      " [0.08529842 0.63934089 0.77571201 0.31980454]\n",
      " [0.62337603 0.8277515  0.42611605 0.0076725 ]\n",
      " [0.33873124 0.10087581 0.71790123 0.90136738]\n",
      " [0.87024887 0.37550814 0.88729059 0.38960603]]\n",
      "-----------------------------------------------------------\n",
      "[[0.3644021  0.11210994 0.75888786 0.05965987]\n",
      " [0.21592767 0.66665482 0.36723146 0.19922161]\n",
      " [0.28640834 0.97367047 0.11987539 0.72879709]\n",
      " [0.40911095 0.4433638  0.99248702 0.74943426]\n",
      " [0.69742787 0.92489975 0.43417199 0.57387111]]\n"
     ]
    }
   ],
   "source": [
    "matrix = np.random.rand(10,4)\n",
    "print(matrix)\n",
    "\n",
    "print(\"-----------------------------------------------------------\")\n",
    "\n",
    "print(matrix[0:5, :])"
   ]
  },
  {
   "cell_type": "markdown",
   "metadata": {},
   "source": [
    "#### 6. Write a Python program to shuffle numbers between 0 and 10 (inclusive). Go to the editor \n",
    "\n",
    "Sample Output:\n",
    "\n",
    "[5 7 9 0 2 3 1 6 8 4] \n",
    "\n",
    "Same result using permutation():\n",
    "\n",
    "[6 7 4 5 8 2 3 9 0 1]"
   ]
  },
  {
   "cell_type": "code",
   "execution_count": 26,
   "metadata": {},
   "outputs": [
    {
     "name": "stdout",
     "output_type": "stream",
     "text": [
      "[0 1 2 3 4 5 6 7 8 9]\n",
      "[8 2 1 6 3 4 0 9 5 7]\n"
     ]
    }
   ],
   "source": [
    "array = np.arange(10)\n",
    "print(array)\n",
    "np.random.shuffle(array)\n",
    "print(array)"
   ]
  },
  {
   "cell_type": "markdown",
   "metadata": {},
   "source": [
    "#### 7. Write a Python program to normalize a 3x3 random matrix.\n",
    "\n",
    "Sample output:\n",
    "\n",
    "Original Array: \n",
    "\n",
    "[[ 0.87311805 0.96651849 0.98078621] \n",
    "\n",
    "[ 0.26407141 0.46784012 0.69947627] \n",
    "\n",
    "[ 0.20013296 0.75510414 0.26290783]]\n",
    "\n",
    "After normalization: \n",
    "\n",
    "[[ 0.86207941 0.98172337 1. ] \n",
    "\n",
    "[ 0.08190378 0.34292711 0.63964803] \n",
    "\n",
    "[ 0. 0.71090613 0.08041325]]"
   ]
  },
  {
   "cell_type": "code",
   "execution_count": 77,
   "metadata": {},
   "outputs": [
    {
     "name": "stdout",
     "output_type": "stream",
     "text": [
      "[[0.32171506 0.06354153 0.31405778]\n",
      " [0.59037042 0.09498867 0.97091266]\n",
      " [0.54975557 0.05015644 0.28950552]]\n",
      "-----------------------------------------------------------\n",
      "[[0.29492998 0.01453706 0.28661369]\n",
      " [0.58670684 0.04869066 1.        ]\n",
      " [0.54259653 0.         0.25994837]]\n"
     ]
    }
   ],
   "source": [
    "matrix = np.random.rand(3,3)\n",
    "print(matrix)\n",
    "\n",
    "max = matrix.max()\n",
    "min = matrix.min()\n",
    "\n",
    "print(\"-----------------------------------------------------------\")\n",
    "\n",
    "matrix = (matrix - min)/(max - min)\n",
    "print(matrix)"
   ]
  },
  {
   "cell_type": "markdown",
   "metadata": {},
   "source": [
    "#### 8. Write a Python program to create a random vector of size 10 and sort it.\n",
    "\n",
    "Expected Output:\n",
    "\n",
    "Original array: \n",
    "\n",
    "[ 0.73123073 0.67714015 0.95615347 0.4759837 0.88789818 0.6910404 2 \n",
    "0.59996415 0.26144489 0.51618644 0.89943882] \n",
    "\n",
    "Sorted array: \n",
    "\n",
    "[ 0.26144489 0.4759837 0.51618644 0.59996415 0.67714015 0.6910404 2 \n",
    "0.73123073 0.88789818 0.89943882 0.95615347] "
   ]
  },
  {
   "cell_type": "code",
   "execution_count": 79,
   "metadata": {},
   "outputs": [
    {
     "name": "stdout",
     "output_type": "stream",
     "text": [
      "[[0.48063806 0.67325391 0.55109802 0.60713632 0.2722242  0.54841124\n",
      "  0.65009501 0.08005997 0.03134039 0.91448357]]\n",
      "-----------------------------------------------------------\n",
      "[[0.03134039 0.08005997 0.2722242  0.48063806 0.54841124 0.55109802\n",
      "  0.60713632 0.65009501 0.67325391 0.91448357]]\n"
     ]
    }
   ],
   "source": [
    "array = np.random.rand(1,10)\n",
    "print(array)\n",
    "\n",
    "print(\"-----------------------------------------------------------\")\n",
    "\n",
    "array = np.sort(array)\n",
    "print(array)"
   ]
  },
  {
   "cell_type": "markdown",
   "metadata": {},
   "source": [
    "#### 9. Write a Python program to find the nearest value from a given value in an array.\n",
    "\n",
    "Expected Output:\n",
    "    \n",
    "4.96138509939 "
   ]
  },
  {
   "cell_type": "code",
   "execution_count": 39,
   "metadata": {},
   "outputs": [
    {
     "name": "stdout",
     "output_type": "stream",
     "text": [
      "[ 3.68454575  4.60311505 10.31009978  7.59787178  4.46671324]\n",
      "3.684545749488235\n"
     ]
    }
   ],
   "source": [
    "array = np.random.uniform(low=1, high=12, size=5)\n",
    "print(array)\n",
    "\n",
    "value = 4\n",
    "\n",
    "min = array.flat[np.abs(array-value).argmin()]\n",
    "print(min)"
   ]
  },
  {
   "cell_type": "markdown",
   "metadata": {},
   "source": [
    "#### 10. Write a Python program to check two random arrays are equal or not.\n",
    "\n",
    "Sample Output:\n",
    "\n",
    "First array: \n",
    "[1 0 1 0 1 1] \n",
    "\n",
    "Second array: \n",
    "[0 0 1 1 1 0]\n",
    "\n",
    "Test above two arrays are equal or not! \n",
    "False"
   ]
  },
  {
   "cell_type": "code",
   "execution_count": 48,
   "metadata": {},
   "outputs": [
    {
     "name": "stdout",
     "output_type": "stream",
     "text": [
      "False\n"
     ]
    }
   ],
   "source": [
    "array1 = [1, 0, 1, 0, 1, 1]\n",
    "array2 = [0, 0, 1, 1, 1, 0]\n",
    "equality = np.allclose(array1, array2)\n",
    "print(equality)"
   ]
  },
  {
   "cell_type": "markdown",
   "metadata": {},
   "source": [
    "#### 11. Write a Python program to create random vector of size 15 and replace the maximum value by -1.\n",
    "\n",
    "Sample output:\n",
    "\n",
    "Original array: \n",
    "\n",
    "[ 0.34807512 0.76714463 0.40242311 0.5634299 0.84972926 0.92247789\n",
    "0.93791571 0.5127047 0.50796265 0.50074454 0.26067194 0.07207825\n",
    "0.04927934 0.95309433 0.14043974] \n",
    "\n",
    "Maximum value replaced by -1:\n",
    "\n",
    "[ 0.34807512 0.76714463 0.40242311 0.5634299 0.84972926 0.92247789\n",
    "0.93791571 0.5127047 0.50796265 0.50074454 0.26067194 0.07207825 \n",
    "0.04927934 -1. 0.14043974]"
   ]
  },
  {
   "cell_type": "code",
   "execution_count": 58,
   "metadata": {},
   "outputs": [
    {
     "name": "stdout",
     "output_type": "stream",
     "text": [
      "[[0.62354017 0.031036   0.22954106 0.16851419 0.76481328 0.67537764\n",
      "  0.52208678 0.24249889 0.5509385  0.26683799 0.78901404 0.04374842\n",
      "  0.58533801 0.68199599 0.31377529]]\n",
      "0.7890140350996451\n",
      "[[ 0.62354017  0.031036    0.22954106  0.16851419  0.76481328  0.67537764\n",
      "   0.52208678  0.24249889  0.5509385   0.26683799 -1.          0.04374842\n",
      "   0.58533801  0.68199599  0.31377529]]\n"
     ]
    }
   ],
   "source": [
    "array = np.random.rand(1,15)\n",
    "print(array)\n",
    "\n",
    "max = array.max()\n",
    "print(max)\n",
    "\n",
    "np.place(array, array == max, -1)\n",
    "print(array)"
   ]
  },
  {
   "cell_type": "markdown",
   "metadata": {},
   "source": [
    "#### 12. Write a Python program to find point by point distances of a random vector with shape (10,2) representing coordinates.\n",
    "\n",
    "Sample output:\n",
    "\n",
    "[[ 0. 0.09871078 0.42100075 0.75597269 0.52281832 0.13721998 \n",
    "0.1761711 0.28689498 0.42061575 0.61315509]\n",
    "\n",
    "[ 0.09871078 0. 0.43978557 0.71086596 0.59696144 0.14701023\n",
    "0.26602812 0.19254215 0.36762701 0.68776127]\n",
    "\n",
    "..... \n",
    "[ 0.42061575 0.36762701 0.30691429 0.34395028 0.63326713 0.29974614\n",
    "0.47787697 0.39922329 0. 0.70954707] \n",
    "\n",
    "[ 0.61315509 0.68776127 0.4097455 0.85714768 0.09080178 0.55976699 "
   ]
  },
  {
   "cell_type": "code",
   "execution_count": 81,
   "metadata": {},
   "outputs": [
    {
     "name": "stdout",
     "output_type": "stream",
     "text": [
      "[[0.         0.3720003  0.22048528 0.64924615 0.91589863 0.67366642\n",
      "  0.69945078 0.27779499 0.93009187 0.96291327]\n",
      " [0.3720003  0.         0.16284352 0.49323307 1.01735301 0.9657501\n",
      "  0.77505261 0.64693243 0.81977218 0.90754792]\n",
      " [0.22048528 0.16284352 0.         0.57563118 1.00218246 0.8631524\n",
      "  0.76555629 0.49825824 0.89225811 0.95830843]\n",
      " [0.64924615 0.49323307 0.57563118 0.         0.65691255 0.88319219\n",
      "  0.44156851 0.82431034 0.32676461 0.42796367]\n",
      " [0.91589863 1.01735301 1.00218246 0.65691255 0.         0.56506106\n",
      "  0.24245104 0.88205409 0.53185238 0.40286502]\n",
      " [0.67366642 0.9657501  0.8631524  0.88319219 0.56506106 0.\n",
      "  0.53430843 0.47905391 0.95879663 0.88458167]\n",
      " [0.69945078 0.77505261 0.76555629 0.44156851 0.24245104 0.53430843\n",
      "  0.         0.7161772  0.42595875 0.35598593]\n",
      " [0.27779499 0.64693243 0.49825824 0.82431034 0.88205409 0.47905391\n",
      "  0.7161772  0.         1.04866688 1.04249149]\n",
      " [0.93009187 0.81977218 0.89225811 0.32676461 0.53185238 0.95879663\n",
      "  0.42595875 1.04866688 0.         0.1501413 ]\n",
      " [0.96291327 0.90754792 0.95830843 0.42796367 0.40286502 0.88458167\n",
      "  0.35598593 1.04249149 0.1501413  0.        ]]\n"
     ]
    }
   ],
   "source": [
    "matrix = np.random.random((10,2))\n",
    "x,y = np.atleast_2d(matrix[:,0], matrix[:,1])\n",
    "d = np.sqrt( (x-x.T)**2 + (y-y.T)**2)\n",
    "print(d)"
   ]
  },
  {
   "cell_type": "markdown",
   "metadata": {},
   "source": [
    "#### 13. Write a Python program to find the most frequent value in an array.\n",
    "\n",
    "Sample Output:\n",
    "\n",
    "Original array:\n",
    "\n",
    "[6 9 5 1 7 5 1 0 1 5 5 0 8 9 0 7 0 7 6 5 1 1 9 5 3 8 7 9 6 3 4 5 9 7 2 7 0 \n",
    "2 2 6] \n",
    "\n",
    "Most frequent value in the above array: \n",
    "\n",
    "5 "
   ]
  },
  {
   "cell_type": "code",
   "execution_count": 76,
   "metadata": {},
   "outputs": [
    {
     "name": "stdout",
     "output_type": "stream",
     "text": [
      "[6 9 5 1 7 5 1 0 1 5 5 0 8 9 0 7 0 7 6 5 1 1 9 5 3 8 7 9 6 3 4 5 9 7 2 7 0\n",
      " 2 2 6]\n",
      "-----------------------------------------------------------\n",
      "[5 5 3 2 1 7 4 6 2 5]\n",
      "-----------------------------------------------------------\n",
      "5\n",
      "-----------------------------------------------------------\n",
      "4\n"
     ]
    }
   ],
   "source": [
    "array = np.array([6, 9, 5, 1, 7, 5, 1, 0, 1, 5, 5, 0, 8, 9, 0, 7, 0, 7, 6, 5, 1, 1, 9, 5, 3, 8, 7, 9, 6, 3, 4, 5, 9, 7, 2, 7, 0, 2, 2, 6])\n",
    "print(array)\n",
    "\n",
    "print(\"-----------------------------------------------------------\")\n",
    "\n",
    "counts = np.bincount(array)\n",
    "print(counts)\n",
    "\n",
    "print(\"-----------------------------------------------------------\")\n",
    "\n",
    "maxcount = np.argmax(counts)\n",
    "print(maxcount)\n",
    "\n",
    "print(\"-----------------------------------------------------------\")\n",
    "\n",
    "mincount = np.argmin(counts)\n",
    "print(mincount)"
   ]
  },
  {
   "cell_type": "markdown",
   "metadata": {},
   "source": [
    "#### 14. Write a Python program to convert cartesian coordinates to polar coordinates of a random 10x3 matrix representing cartesian coordinates.\n",
    "\n",
    "Expected Output:\n",
    "\n",
    "[ 0.89225122 0.68774813 0.20392039 1.22093243 1.24435921 1.00358852 \n",
    "0.37378547 0.8534585 0.31999648 0.567451 ] \n",
    "\n",
    "[ 1.02751197 1.26964967 0.02567519 0.85386412 0.73152767 0.45822494 \n",
    "1.50634505 1.47389983 0.80818521 0.33001182]"
   ]
  },
  {
   "cell_type": "code",
   "execution_count": 75,
   "metadata": {},
   "outputs": [
    {
     "name": "stdout",
     "output_type": "stream",
     "text": [
      "[[0.60956926 0.18074957 0.22467806]\n",
      " [0.56562988 0.33541039 0.18695826]\n",
      " [0.92885856 0.77596777 0.97675958]\n",
      " [0.75355426 0.33938275 0.31687074]\n",
      " [0.96966088 0.97291197 0.39077487]\n",
      " [0.27333305 0.59494295 0.78576842]\n",
      " [0.97165655 0.57054897 0.1408115 ]\n",
      " [0.64261946 0.02051743 0.66107797]\n",
      " [0.5873967  0.9978167  0.82589767]\n",
      " [0.59898412 0.5600369  0.53869617]]\n",
      "-----------------------------------------------------------\n",
      "[0.60956926 0.56562988 0.92885856 0.75355426 0.96966088 0.27333305\n",
      " 0.97165655 0.64261946 0.5873967  0.59898412]\n",
      "-----------------------------------------------------------\n",
      "[0.18074957 0.33541039 0.77596777 0.33938275 0.97291197 0.59494295\n",
      " 0.57054897 0.02051743 0.9978167  0.5600369 ]\n",
      "-----------------------------------------------------------\n",
      "Cartesian coordinates are:\n",
      "[0.63580272 0.65759964 1.21033227 0.82645307 1.37360836 0.65472748\n",
      " 1.12678418 0.64294692 1.15787436 0.82001421]\n",
      "-----------------------------------------------------------\n",
      "Polar coordinated are:\n",
      "[0.28826122 0.53524591 0.69595628 0.42316656 0.78707177 1.14013035\n",
      " 0.53094863 0.03191696 1.03874048 0.75180725]\n"
     ]
    }
   ],
   "source": [
    "matrix = np.random.rand(10,3)\n",
    "print(matrix)\n",
    "\n",
    "print(\"-----------------------------------------------------------\")\n",
    "\n",
    "x = matrix[:, 0]\n",
    "print(x)\n",
    "\n",
    "print(\"-----------------------------------------------------------\")\n",
    "\n",
    "y = matrix[:, 1]\n",
    "print(y)\n",
    "\n",
    "print(\"-----------------------------------------------------------\")\n",
    "\n",
    "r = np.sqrt(x**2 + y**2)\n",
    "print(\"Cartesian coordinates are:\")\n",
    "print(r)\n",
    "\n",
    "print(\"-----------------------------------------------------------\")\n",
    "\n",
    "t = np.arctan2(y, x)\n",
    "print(\"Polar coordinated are:\")\n",
    "print(t)\n"
   ]
  },
  {
   "cell_type": "markdown",
   "metadata": {},
   "source": [
    "#### 15. Write a Python program to find the closest value (to a given scalar) in an array.\n",
    "\n",
    "Original array: \n",
    "\n",
    "[ 0 1 2 3 4 5 6 7 8 9 10 11 12 13 14 15 16 17 18 19 20 21 22 23 24\n",
    "25 26 27 28 29 30 31 32 33 34 35 36 37 38 39 40 41 42 43 44 45 46 47 48 49 \n",
    "50 51 52 53 54 55 56 57 58 59 60 61 62 63 64 65 66 67 68 69 70 71 72 73 74 \n",
    "75 76 77 78 79 80 81 82 83 84 85 86 87 88 89 90 91 92 93 94 95 96 97 98 99] \n",
    "\n",
    "Value to compare:\n",
    "\n",
    "34.99062268928913\n",
    "\n",
    "35 "
   ]
  },
  {
   "cell_type": "code",
   "execution_count": 88,
   "metadata": {},
   "outputs": [
    {
     "name": "stdout",
     "output_type": "stream",
     "text": [
      "[ 0  1  2  3  4  5  6  7  8  9 10 11 12 13 14 15 16 17 18 19 20 21 22 23\n",
      " 24 25 26 27 28 29 30 31 32 33 34 35 36 37 38 39 40 41 42 43 44 45 46 47\n",
      " 48 49 50 51 52 53 54 55 56 57 58 59 60 61 62 63 64 65 66 67 68 69 70 71\n",
      " 72 73 74 75 76 77 78 79 80 81 82 83 84 85 86 87 88 89 90 91 92 93 94 95\n",
      " 96 97 98 99]\n",
      "------------------------------------------------------------------------------------------\n",
      "Given value: 34.99062268928913\n",
      "Closest value: 35\n"
     ]
    }
   ],
   "source": [
    "array = np.arange(0, 100, 1)\n",
    "print(array)\n",
    "\n",
    "print(\"------------------------------------------------------------------------------------------\")\n",
    "\n",
    "value = 34.99062268928913\n",
    "print(\"Given value:\", value)\n",
    "\n",
    "closest = np.abs(array - value).argmin()\n",
    "print(\"Closest value:\", closest)"
   ]
  },
  {
   "cell_type": "markdown",
   "metadata": {},
   "source": [
    "#### 16. Write a Python program to get the n largest values of an array.\n",
    "\n",
    "Sample output:\n",
    "\n",
    "Original array: \n",
    "\n",
    "[0 1 2 3 4 5 6 7 8 9] \n",
    "\n",
    "[9]"
   ]
  },
  {
   "cell_type": "code",
   "execution_count": 107,
   "metadata": {},
   "outputs": [
    {
     "name": "stdout",
     "output_type": "stream",
     "text": [
      "[0 1 2 3 4 5 6 7 8 9]\n",
      "------------------------------------------------------------------------------------------\n",
      "[9]\n"
     ]
    }
   ],
   "source": [
    "array = np.arange(0, 10, 1)\n",
    "print(array)\n",
    "\n",
    "print(\"------------------------------------------------------------------------------------------\")\n",
    "\n",
    "max = np.array([array.max()])\n",
    "print(max)\n"
   ]
  }
 ],
 "metadata": {
  "kernelspec": {
   "display_name": "Python 3",
   "language": "python",
   "name": "python3"
  },
  "language_info": {
   "codemirror_mode": {
    "name": "ipython",
    "version": 3
   },
   "file_extension": ".py",
   "mimetype": "text/x-python",
   "name": "python",
   "nbconvert_exporter": "python",
   "pygments_lexer": "ipython3",
   "version": "3.6.6"
  }
 },
 "nbformat": 4,
 "nbformat_minor": 2
}
