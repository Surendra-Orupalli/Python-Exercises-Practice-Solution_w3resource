{
 "cells": [
  {
   "cell_type": "markdown",
   "metadata": {},
   "source": [
    "# Python: Array Exercises, Practice, Solution"
   ]
  },
  {
   "cell_type": "markdown",
   "metadata": {},
   "source": [
    "#### 1. Write a Python program to create an array of 5 integers and display the array items. Access individual element through indexes."
   ]
  },
  {
   "cell_type": "code",
   "execution_count": 1,
   "metadata": {},
   "outputs": [
    {
     "name": "stdout",
     "output_type": "stream",
     "text": [
      "array('i', [1, 2, 3, 4, 5])\n",
      "1\n",
      "2\n",
      "3\n",
      "4\n",
      "5\n",
      " \n",
      "First three elements in an array\n",
      "1\n",
      "2\n",
      "3\n"
     ]
    }
   ],
   "source": [
    "from array import *\n",
    "\n",
    "num_array = array('i', [1, 2, 3, 4, 5])\n",
    "print(num_array)\n",
    "\n",
    "for i in num_array:\n",
    "    print(i)\n",
    "\n",
    "print(\" \")\n",
    "\n",
    "print(\"First three elements in an array\")\n",
    "print(num_array[0])\n",
    "print(num_array[1])\n",
    "print(num_array[2])"
   ]
  },
  {
   "cell_type": "markdown",
   "metadata": {},
   "source": [
    "#### 2. Write a Python program to append a new item to the end of the array."
   ]
  },
  {
   "cell_type": "code",
   "execution_count": 2,
   "metadata": {},
   "outputs": [
    {
     "name": "stdout",
     "output_type": "stream",
     "text": [
      "array('i', [1, 2, 3, 4, 5])\n",
      "array('i', [1, 2, 3, 4, 5, 25])\n"
     ]
    }
   ],
   "source": [
    "from array import *\n",
    "\n",
    "num_array = array('i', [1, 2, 3, 4, 5])\n",
    "print(num_array)\n",
    "\n",
    "num_array.append(25)\n",
    "print(num_array)"
   ]
  },
  {
   "cell_type": "markdown",
   "metadata": {},
   "source": [
    "#### 3. Write a Python program to reverse the order of the items in the array."
   ]
  },
  {
   "cell_type": "code",
   "execution_count": 3,
   "metadata": {},
   "outputs": [
    {
     "name": "stdout",
     "output_type": "stream",
     "text": [
      "array('i', [1, 2, 3, 4, 5])\n",
      "array('i', [5, 4, 3, 2, 1])\n"
     ]
    }
   ],
   "source": [
    "from array import *\n",
    "\n",
    "num_array = array('i', [1, 2, 3, 4, 5])\n",
    "print(num_array)\n",
    "\n",
    "num_array.reverse()\n",
    "print(num_array)"
   ]
  },
  {
   "cell_type": "markdown",
   "metadata": {},
   "source": [
    "#### 4. Write a Python program to get the length in bytes of one array item in the internal representation."
   ]
  },
  {
   "cell_type": "code",
   "execution_count": 4,
   "metadata": {},
   "outputs": [
    {
     "name": "stdout",
     "output_type": "stream",
     "text": [
      "array('i', [4, 5, 6, 7])\n",
      "4\n"
     ]
    }
   ],
   "source": [
    "from array import *\n",
    "\n",
    "array_num = array('i', [4,5,6,7])\n",
    "print(array_num)\n",
    "\n",
    "bytes = str(array_num.itemsize)\n",
    "print(bytes)"
   ]
  },
  {
   "cell_type": "markdown",
   "metadata": {},
   "source": [
    "#### 5. Write a Python program to get the current memory address and the length in elements of the buffer used to hold an array's contents and also find the size of the memory buffer in bytes."
   ]
  },
  {
   "cell_type": "code",
   "execution_count": 5,
   "metadata": {},
   "outputs": [
    {
     "name": "stdout",
     "output_type": "stream",
     "text": [
      "Array:  array('i', [1, 3, 5, 7, 9])\n",
      "Buffer: (4496065088, 5)\n",
      "Bytes:  4\n"
     ]
    }
   ],
   "source": [
    "from array import *\n",
    "\n",
    "array_num = array('i', [1,3,5,7,9])\n",
    "print(\"Array: \", array_num)\n",
    "\n",
    "buffer = str(array_num.buffer_info())\n",
    "print(\"Buffer:\", buffer)\n",
    "\n",
    "bytes = str(array_num.itemsize)\n",
    "print(\"Bytes: \", bytes)"
   ]
  },
  {
   "cell_type": "markdown",
   "metadata": {},
   "source": [
    "#### 6. Write a Python program to get the number of occurrences of a specified element in an array."
   ]
  },
  {
   "cell_type": "code",
   "execution_count": 6,
   "metadata": {},
   "outputs": [
    {
     "name": "stdout",
     "output_type": "stream",
     "text": [
      "Array:  [2 5 6 4 3 6 8 4 3 9 0 1 2 3 5 7 3 8 1 0 4]\n",
      "Occurances of 4 are:  3\n"
     ]
    }
   ],
   "source": [
    "import numpy as np\n",
    "from array import *\n",
    "\n",
    "numbers = np.array([2,5,6,4,3,6,8,4,3,9,0,1,2,3,5,7,3,8,1,0,4])\n",
    "print(\"Array: \", numbers)\n",
    "\n",
    "s = 4\n",
    "count = 0\n",
    "\n",
    "for num in numbers:\n",
    "    if num == s:\n",
    "        count += 1\n",
    "\n",
    "print(\"Occurances of \" + str(s) + \" are: \", count)"
   ]
  },
  {
   "cell_type": "markdown",
   "metadata": {},
   "source": [
    "#### 7. Write a Python program to append items from inerrable to the end of the array."
   ]
  },
  {
   "cell_type": "code",
   "execution_count": 7,
   "metadata": {},
   "outputs": [
    {
     "name": "stdout",
     "output_type": "stream",
     "text": [
      "Original Array:  array('i', [1, 2, 3, 4])\n",
      "Appened Array:  array('i', [1, 2, 3, 4, 5, 6, 7, 8])\n"
     ]
    }
   ],
   "source": [
    "numbers = array(\"i\", [1,2,3,4])\n",
    "print(\"Original Array: \", numbers)\n",
    "\n",
    "list = [5,6,7,8]\n",
    "\n",
    "numbers.extend(list)\n",
    "    \n",
    "print(\"Appened Array: \", numbers)"
   ]
  },
  {
   "cell_type": "markdown",
   "metadata": {},
   "source": [
    "#### 8. Write a Python program to convert an array to an array of machine values and return the bytes representation."
   ]
  },
  {
   "cell_type": "code",
   "execution_count": 8,
   "metadata": {},
   "outputs": [
    {
     "name": "stdout",
     "output_type": "stream",
     "text": [
      "b'xyzabc'\n"
     ]
    }
   ],
   "source": [
    "numbers = array(\"b\", [120,121,122,97,98,99]) #bad typecode (must be b, B, u, h, H, i, I, l, L, q, Q, f or d)\n",
    "machine_values = numbers.tobytes()\n",
    "print(machine_values)"
   ]
  },
  {
   "cell_type": "markdown",
   "metadata": {},
   "source": [
    "#### 9. Write a Python program to append items from a specified list."
   ]
  },
  {
   "cell_type": "code",
   "execution_count": 9,
   "metadata": {},
   "outputs": [
    {
     "name": "stdout",
     "output_type": "stream",
     "text": [
      "Original Array:  array('i')\n",
      "Appended Array:  array('i', [5, 6, 7, 8])\n"
     ]
    }
   ],
   "source": [
    "numbers = array(\"i\", [])\n",
    "print(\"Original Array: \", numbers)\n",
    "\n",
    "list = [5,6,7,8]\n",
    "numbers.extend(list)\n",
    "print(\"Appended Array: \", numbers)"
   ]
  },
  {
   "cell_type": "markdown",
   "metadata": {},
   "source": [
    "#### 10. Write a Python program to insert a new item before the second element in an existing array."
   ]
  },
  {
   "cell_type": "code",
   "execution_count": 10,
   "metadata": {},
   "outputs": [
    {
     "name": "stdout",
     "output_type": "stream",
     "text": [
      "Original Array:  [1 2 3 4]\n",
      "Inserted Array:  [1 7 2 3 4]\n"
     ]
    }
   ],
   "source": [
    "import numpy as np\n",
    "\n",
    "numbers = np.arange(1,5,1)\n",
    "print(\"Original Array: \", numbers)\n",
    "\n",
    "n1 = np.insert(numbers, [1], [7])\n",
    "print(\"Inserted Array: \", n1)"
   ]
  },
  {
   "cell_type": "markdown",
   "metadata": {},
   "source": [
    "#### 11. Write a Python program to remove a specified item using the index from an array."
   ]
  },
  {
   "cell_type": "code",
   "execution_count": 11,
   "metadata": {},
   "outputs": [
    {
     "name": "stdout",
     "output_type": "stream",
     "text": [
      "Original Array:  [1 2 3 4]\n",
      "Delete Array:  [1 3 4]\n"
     ]
    }
   ],
   "source": [
    "import numpy as np\n",
    "\n",
    "numbers = np.arange(1,5,1)\n",
    "print(\"Original Array: \", numbers)\n",
    "\n",
    "n1 = np.delete(numbers, [1])\n",
    "print(\"Delete Array: \", n1)"
   ]
  },
  {
   "cell_type": "markdown",
   "metadata": {},
   "source": [
    "#### 12. Write a Python program to remove the first occurrence of a specified element from an array."
   ]
  },
  {
   "cell_type": "code",
   "execution_count": 12,
   "metadata": {},
   "outputs": [
    {
     "name": "stdout",
     "output_type": "stream",
     "text": [
      "Original Array:  [1 2 3 4]\n",
      "Delete Array:  [2 3 4]\n"
     ]
    }
   ],
   "source": [
    "import numpy as np\n",
    "\n",
    "numbers = np.arange(1,5,1)\n",
    "print(\"Original Array: \", numbers)\n",
    "\n",
    "n1 = np.delete(numbers, [0])\n",
    "print(\"Delete Array: \", n1)"
   ]
  },
  {
   "cell_type": "markdown",
   "metadata": {},
   "source": [
    "#### 13. Write a Python program to convert an array to an ordinary list with the same items."
   ]
  },
  {
   "cell_type": "code",
   "execution_count": 13,
   "metadata": {},
   "outputs": [
    {
     "name": "stdout",
     "output_type": "stream",
     "text": [
      "[[1 2 3]\n",
      " [4 5 6]]\n",
      "[[1, 2, 3], [4, 5, 6]]\n"
     ]
    }
   ],
   "source": [
    "a = np.array([[1,2,3], [4,5,6]])\n",
    "print(a)\n",
    "\n",
    "b = np.ndarray.tolist(a)\n",
    "print(b)"
   ]
  },
  {
   "cell_type": "code",
   "execution_count": 14,
   "metadata": {},
   "outputs": [],
   "source": [
    "######### END #########"
   ]
  }
 ],
 "metadata": {
  "kernelspec": {
   "display_name": "Python 3",
   "language": "python",
   "name": "python3"
  },
  "language_info": {
   "codemirror_mode": {
    "name": "ipython",
    "version": 3
   },
   "file_extension": ".py",
   "mimetype": "text/x-python",
   "name": "python",
   "nbconvert_exporter": "python",
   "pygments_lexer": "ipython3",
   "version": "3.6.6"
  }
 },
 "nbformat": 4,
 "nbformat_minor": 2
}
